{
 "cells": [
  {
   "cell_type": "markdown",
   "metadata": {},
   "source": [
    "# 3 Probability and Information Theory"
   ]
  },
  {
   "cell_type": "markdown",
   "metadata": {},
   "source": [
    "## 3.4 Marginal Probability"
   ]
  },
  {
   "cell_type": "code",
   "execution_count": 1,
   "metadata": {},
   "outputs": [],
   "source": [
    "import numpy as np\n",
    "import matplotlib.pyplot as plt\n",
    "%matplotlib inline"
   ]
  },
  {
   "cell_type": "code",
   "execution_count": 2,
   "metadata": {},
   "outputs": [
    {
     "name": "stdout",
     "output_type": "stream",
     "text": [
      "Possibilities of dice pairs:\n",
      " [(2, 2), (3, 5), (3, 3), (1, 5), (4, 6), (6, 3), (5, 1), (2, 1), (3, 2), (4, 5), (2, 3), (1, 4), (1, 3), (4, 1), (6, 4), (6, 1), (1, 2), (2, 4), (3, 4), (1, 1), (1, 6), (3, 1), (5, 4), (5, 2), (6, 2), (5, 3), (4, 2), (5, 5), (2, 5), (4, 4), (2, 6), (4, 3), (5, 6), (6, 6), (3, 6), (6, 5)]\n",
      "Number of appearance of each dice pair: \n",
      " [2679, 2757, 2772, 2802, 2786, 2751, 2896, 2786, 2805, 2722, 2772, 2837, 2781, 2712, 2788, 2762, 2813, 2964, 2807, 2721, 2773, 2728, 2722, 2788, 2698, 2859, 2796, 2702, 2737, 2756, 2841, 2758, 2717, 2789, 2778, 2845]\n"
     ]
    },
    {
     "data": {
      "text/plain": [
       "<Container object of 36 artists>"
      ]
     },
     "execution_count": 2,
     "metadata": {},
     "output_type": "execute_result"
    },
    {
     "data": {
      "image/png": "[encoded data removed]",
      "text/plain": [
       "<matplotlib.figure.Figure at 0x7facaf70d080>"
      ]
     },
     "metadata": {},
     "output_type": "display_data"
    }
   ],
   "source": [
    "def dice():\n",
    "    return np.random.randint(1,7)\n",
    "\n",
    "# Shaking the dice 100000 times\n",
    "trials = []\n",
    "for _ in range(100000):\n",
    "    trials.append((dice(), dice()))\n",
    "\n",
    "pairs, counts = [], []\n",
    "for trial in trials:\n",
    "    if trial not in pairs:\n",
    "        pairs.append(trial)\n",
    "        counts.append(0)\n",
    "    counts[pairs.index(trial)] += 1\n",
    "    \n",
    "print(\"Possibilities of dice pairs:\\n\", pairs)\n",
    "print(\"Number of appearance of each dice pair: \\n\", counts)\n",
    "plt.bar(range(len(pairs)), counts)"
   ]
  },
  {
   "cell_type": "code",
   "execution_count": 3,
   "metadata": {},
   "outputs": [
    {
     "name": "stdout",
     "output_type": "stream",
     "text": [
      "(2, 2): count=2679/100000, p=0.02679 (2.6790000000000003%)\n",
      "(3, 5): count=2757/100000, p=0.02757 (2.757%)\n",
      "(3, 3): count=2772/100000, p=0.02772 (2.7720000000000002%)\n",
      "(1, 5): count=2802/100000, p=0.02802 (2.802%)\n",
      "(4, 6): count=2786/100000, p=0.02786 (2.786%)\n",
      "(6, 3): count=2751/100000, p=0.02751 (2.751%)\n",
      "(5, 1): count=2896/100000, p=0.02896 (2.896%)\n",
      "(2, 1): count=2786/100000, p=0.02786 (2.786%)\n",
      "(3, 2): count=2805/100000, p=0.02805 (2.8049999999999997%)\n",
      "(4, 5): count=2722/100000, p=0.02722 (2.722%)\n",
      "(2, 3): count=2772/100000, p=0.02772 (2.7720000000000002%)\n",
      "(1, 4): count=2837/100000, p=0.02837 (2.8369999999999997%)\n",
      "(1, 3): count=2781/100000, p=0.02781 (2.781%)\n",
      "(4, 1): count=2712/100000, p=0.02712 (2.7119999999999997%)\n",
      "(6, 4): count=2788/100000, p=0.02788 (2.788%)\n",
      "(6, 1): count=2762/100000, p=0.02762 (2.762%)\n",
      "(1, 2): count=2813/100000, p=0.02813 (2.8129999999999997%)\n",
      "(2, 4): count=2964/100000, p=0.02964 (2.964%)\n",
      "(3, 4): count=2807/100000, p=0.02807 (2.807%)\n",
      "(1, 1): count=2721/100000, p=0.02721 (2.721%)\n",
      "(1, 6): count=2773/100000, p=0.02773 (2.773%)\n",
      "(3, 1): count=2728/100000, p=0.02728 (2.7279999999999998%)\n",
      "(5, 4): count=2722/100000, p=0.02722 (2.722%)\n",
      "(5, 2): count=2788/100000, p=0.02788 (2.788%)\n",
      "(6, 2): count=2698/100000, p=0.02698 (2.698%)\n",
      "(5, 3): count=2859/100000, p=0.02859 (2.859%)\n",
      "(4, 2): count=2796/100000, p=0.02796 (2.796%)\n",
      "(5, 5): count=2702/100000, p=0.02702 (2.702%)\n",
      "(2, 5): count=2737/100000, p=0.02737 (2.7369999999999997%)\n",
      "(4, 4): count=2756/100000, p=0.02756 (2.7560000000000002%)\n",
      "(2, 6): count=2841/100000, p=0.02841 (2.841%)\n",
      "(4, 3): count=2758/100000, p=0.02758 (2.758%)\n",
      "(5, 6): count=2717/100000, p=0.02717 (2.717%)\n",
      "(6, 6): count=2789/100000, p=0.02789 (2.789%)\n",
      "(3, 6): count=2778/100000, p=0.02778 (2.778%)\n",
      "(6, 5): count=2845/100000, p=0.02845 (2.8449999999999998%)\n",
      "--------------------------------------------------\n",
      "Probabilities:  [0.02679, 0.02757, 0.02772, 0.02802, 0.02786, 0.02751, 0.02896, 0.02786, 0.02805, 0.02722, 0.02772, 0.02837, 0.02781, 0.02712, 0.02788, 0.02762, 0.02813, 0.02964, 0.02807, 0.02721, 0.02773, 0.02728, 0.02722, 0.02788, 0.02698, 0.02859, 0.02796, 0.02702, 0.02737, 0.02756, 0.02841, 0.02758, 0.02717, 0.02789, 0.02778, 0.02845]\n",
      "Sum of all probabilities:  1.0\n"
     ]
    }
   ],
   "source": [
    "probs = []\n",
    "for pair in pairs:\n",
    "    count = trials.count(pair)\n",
    "    prob = count / len(trials)\n",
    "    probs.append(prob)\n",
    "    print(\"{}: count={}/{}, p={} ({}%)\".format(pair, count,len(trials), prob, prob*100))\n",
    "    \n",
    "print('-' * 50)\n",
    "print(\"Probabilities: \", probs)\n",
    "print(\"Sum of all probabilities: \", np.sum(probs))"
   ]
  },
  {
   "cell_type": "markdown",
   "metadata": {},
   "source": [
    "Here you can see that each probability is around 2.78% (1/36).\n",
    "\n",
    "Now, let's marginalize the second trial."
   ]
  },
  {
   "cell_type": "code",
   "execution_count": 4,
   "metadata": {},
   "outputs": [
    {
     "name": "stdout",
     "output_type": "stream",
     "text": [
      "0: count=16727/100000, p=0.16727 (16.727%)\n",
      "1: count=16779/100000, p=0.16779 (16.779%)\n",
      "2: count=16647/100000, p=0.16647 (16.647000000000002%)\n",
      "3: count=16530/100000, p=0.1653 (16.53%)\n",
      "4: count=16684/100000, p=0.16684 (16.683999999999997%)\n",
      "5: count=16633/100000, p=0.16633 (16.633%)\n",
      "--------------------------------------------------\n",
      "Probabilities:  [0.16727, 0.16778999999999999, 0.16647000000000001, 0.1653, 0.16683999999999999, 0.16633000000000001]\n",
      "Sum of all probabilities:  1.0\n"
     ]
    }
   ],
   "source": [
    "marginalized_counts = np.zeros(6)\n",
    "for trial in trials:\n",
    "    '''\n",
    "    Here, all second trials are marginalized.\n",
    "    ex) The probabilities of (2,1), (2,2), ..., (2,6) \n",
    "        are all aggregated to \"2\".\n",
    "    '''\n",
    "    marginalized_counts[trial[0] - 1] += 1\n",
    "\n",
    "# Computing the marginalized probabilities\n",
    "probs = []\n",
    "for i, count in enumerate(marginalized_counts):\n",
    "    prob = count / len(trials)\n",
    "    probs.append(prob)\n",
    "    print(\"{}: count={}/{}, p={} ({}%)\".format(i, int(count),len(trials), prob, prob*100))\n",
    "    \n",
    "print('-' * 50)\n",
    "print(\"Probabilities: \", probs)\n",
    "print(\"Sum of all probabilities: \", np.sum(probs))"
   ]
  },
  {
   "cell_type": "markdown",
   "metadata": {},
   "source": [
    "Now each probability takes around 16.667% (1/6) after the marginalization."
   ]
  },
  {
   "cell_type": "code",
   "execution_count": null,
   "metadata": {},
   "outputs": [],
   "source": []
  }
 ],
 "metadata": {
  "kernelspec": {
   "display_name": "Python 3",
   "language": "python",
   "name": "python3"
  },
  "language_info": {
   "codemirror_mode": {
    "name": "ipython",
    "version": 3
   },
   "file_extension": ".py",
   "mimetype": "text/x-python",
   "name": "python",
   "nbconvert_exporter": "python",
   "pygments_lexer": "ipython3",
   "version": "3.5.2"
  }
 },
 "nbformat": 4,
 "nbformat_minor": 2
}
