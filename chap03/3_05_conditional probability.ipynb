{
 "cells": [
  {
   "cell_type": "markdown",
   "metadata": {},
   "source": [
    "# 3 Probability and Information Theory"
   ]
  },
  {
   "cell_type": "markdown",
   "metadata": {},
   "source": [
    "## 3.5 Conditional Probability"
   ]
  },
  {
   "cell_type": "code",
   "execution_count": 1,
   "metadata": {},
   "outputs": [],
   "source": [
    "import numpy as np"
   ]
  },
  {
   "cell_type": "code",
   "execution_count": 2,
   "metadata": {},
   "outputs": [
    {
     "name": "stdout",
     "output_type": "stream",
     "text": [
      "Possibilities of dice pairs:\n",
      " [(1, 5), (5, 1), (6, 2), (1, 4), (3, 2), (1, 3), (6, 6), (3, 6), (2, 6), (4, 1), (4, 4), (6, 4), (5, 2), (6, 5), (4, 5), (3, 3), (6, 1), (4, 3), (3, 5), (5, 3), (1, 2), (2, 5), (2, 4), (2, 1), (2, 2), (4, 6), (5, 4), (3, 1), (1, 6), (3, 4), (2, 3), (6, 3), (4, 2), (5, 6), (1, 1), (5, 5)]\n",
      "Number of appearance of each dice pair: \n",
      " [2748, 2728, 2709, 2801, 2791, 2763, 2754, 2891, 2737, 2842, 2798, 2789, 2794, 2701, 2735, 2820, 2778, 2745, 2728, 2835, 2791, 2796, 2909, 2754, 2787, 2757, 2736, 2864, 2780, 2803, 2774, 2783, 2762, 2750, 2692, 2775]\n",
      "counts_x: \n",
      " [ 16575.  16757.  16897.  16639.  16618.  16514.]\n"
     ]
    }
   ],
   "source": [
    "def dice():\n",
    "    return np.random.randint(1,7)\n",
    "\n",
    "# Shaking the dice 100000 times\n",
    "trials = []\n",
    "for _ in range(100000):\n",
    "    trials.append((dice(), dice()))\n",
    "\n",
    "pairs, counts = [], []\n",
    "counts_x = np.zeros(6)\n",
    "for trial in trials:\n",
    "    if trial not in pairs:\n",
    "        pairs.append(trial)\n",
    "        counts.append(0)\n",
    "    counts[pairs.index(trial)] += 1\n",
    "    counts_x[trial[0] - 1] += 1\n",
    "\n",
    "print(\"Possibilities of dice pairs:\\n\", pairs)\n",
    "print(\"Number of appearance of each dice pair: \\n\", counts)\n",
    "print(\"counts_x: \\n\", counts_x)"
   ]
  },
  {
   "cell_type": "code",
   "execution_count": 3,
   "metadata": {},
   "outputs": [
    {
     "name": "stdout",
     "output_type": "stream",
     "text": [
      "p(y|x): \n",
      " 0.165177250399\n"
     ]
    }
   ],
   "source": [
    "# Conditional probability p(y|x) where x = 3, y = 2\n",
    "x, y = 3, 2\n",
    "count = counts[pairs.index((x, y))]\n",
    "print(\"p(y|x): \\n\", count / counts_x[x-1])"
   ]
  },
  {
   "cell_type": "code",
   "execution_count": null,
   "metadata": {},
   "outputs": [],
   "source": []
  }
 ],
 "metadata": {
  "kernelspec": {
   "display_name": "Python 3",
   "language": "python",
   "name": "python3"
  },
  "language_info": {
   "codemirror_mode": {
    "name": "ipython",
    "version": 3
   },
   "file_extension": ".py",
   "mimetype": "text/x-python",
   "name": "python",
   "nbconvert_exporter": "python",
   "pygments_lexer": "ipython3",
   "version": "3.5.2"
  }
 },
 "nbformat": 4,
 "nbformat_minor": 2
}
