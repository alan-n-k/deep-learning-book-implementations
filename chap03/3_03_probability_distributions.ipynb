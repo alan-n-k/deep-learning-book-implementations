{
 "cells": [
  {
   "cell_type": "markdown",
   "metadata": {},
   "source": [
    "# 3 Probability and Information Theory"
   ]
  },
  {
   "cell_type": "markdown",
   "metadata": {},
   "source": [
    "## 3.3 Probability Distributions"
   ]
  },
  {
   "cell_type": "code",
   "execution_count": 1,
   "metadata": {},
   "outputs": [],
   "source": [
    "import numpy as np\n",
    "import matplotlib.pyplot as plt\n",
    "%matplotlib inline"
   ]
  },
  {
   "cell_type": "markdown",
   "metadata": {},
   "source": [
    "### Discrete probability example"
   ]
  },
  {
   "cell_type": "code",
   "execution_count": 2,
   "metadata": {},
   "outputs": [
    {
     "data": {
      "text/plain": [
       "<Container object of 6 artists>"
      ]
     },
     "execution_count": 2,
     "metadata": {},
     "output_type": "execute_result"
    },
    {
     "data": {
      "image/png": "[encoded data removed]",
      "text/plain": [
       "<matplotlib.figure.Figure at 0x7ff2f96d8710>"
      ]
     },
     "metadata": {},
     "output_type": "display_data"
    }
   ],
   "source": [
    "def dice():\n",
    "    return np.random.randint(1,7)\n",
    "\n",
    "# Shaking the dice 100000 times\n",
    "trials = []\n",
    "for _ in range(100000):\n",
    "    trials.append(dice())\n",
    "\n",
    "labels, counts = np.unique(trials, return_counts=True)\n",
    "plt.gca().set_xticks(labels)\n",
    "plt.bar(labels, counts, align='center')"
   ]
  },
  {
   "cell_type": "code",
   "execution_count": 3,
   "metadata": {},
   "outputs": [
    {
     "name": "stdout",
     "output_type": "stream",
     "text": [
      "1: count=16561/100000, p=0.16561 (16.561%)\n",
      "2: count=16702/100000, p=0.16702 (16.702%)\n",
      "3: count=16673/100000, p=0.16673 (16.673%)\n",
      "4: count=16510/100000, p=0.1651 (16.509999999999998%)\n",
      "5: count=16912/100000, p=0.16912 (16.912%)\n",
      "6: count=16642/100000, p=0.16642 (16.642000000000003%)\n",
      "--------------------------------------------------\n",
      "Probabilities:  [0.16561, 0.16702, 0.16673, 0.1651, 0.16912, 0.16642]\n",
      "Sum of all probabilities:  1.0\n"
     ]
    }
   ],
   "source": [
    "probs = []\n",
    "for i in labels:\n",
    "    count = trials.count(i)\n",
    "    prob = count / len(trials)\n",
    "    probs.append(prob)\n",
    "    print(\"{}: count={}/{}, p={} ({}%)\".format(i, count,len(trials), prob, prob*100))\n",
    "    \n",
    "print('-' * 50)\n",
    "print(\"Probabilities: \", probs)\n",
    "print(\"Sum of all probabilities: \", np.sum(probs))"
   ]
  },
  {
   "cell_type": "markdown",
   "metadata": {},
   "source": [
    "### Continuous probability example"
   ]
  },
  {
   "cell_type": "code",
   "execution_count": 4,
   "metadata": {},
   "outputs": [
    {
     "name": "stdout",
     "output_type": "stream",
     "text": [
      "Number of unique sample points:  100000\n",
      "(Here you see all the points are unique as the values are continuous)\n"
     ]
    },
    {
     "data": {
      "image/png": "[encoded data removed]",
      "text/plain": [
       "<matplotlib.figure.Figure at 0x7ff2d4cc0128>"
      ]
     },
     "metadata": {},
     "output_type": "display_data"
    }
   ],
   "source": [
    "# Generating samples by normal distribution\n",
    "samples = []\n",
    "for _ in range(100000):\n",
    "    samples.append(np.random.normal())\n",
    "    \n",
    "plt.hist(samples, bins=300, normed=True)\n",
    "print(\"Number of unique sample points: \", len(np.unique(samples)))\n",
    "print(\"(Here you see all the points are unique as the values are continuous)\")"
   ]
  },
  {
   "cell_type": "markdown",
   "metadata": {},
   "source": [
    "The area of blue part will be equal to 1, which means:\n",
    "$$ \\int p(x)dx = 1$$"
   ]
  },
  {
   "cell_type": "code",
   "execution_count": null,
   "metadata": {},
   "outputs": [],
   "source": []
  }
 ],
 "metadata": {
  "kernelspec": {
   "display_name": "Python 3",
   "language": "python",
   "name": "python3"
  },
  "language_info": {
   "codemirror_mode": {
    "name": "ipython",
    "version": 3
   },
   "file_extension": ".py",
   "mimetype": "text/x-python",
   "name": "python",
   "nbconvert_exporter": "python",
   "pygments_lexer": "ipython3",
   "version": "3.5.2"
  }
 },
 "nbformat": 4,
 "nbformat_minor": 2
}
