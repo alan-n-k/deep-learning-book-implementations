{
 "cells": [
  {
   "cell_type": "markdown",
   "metadata": {},
   "source": [
    "# 2 Linear Algebra"
   ]
  },
  {
   "cell_type": "markdown",
   "metadata": {},
   "source": [
    "## 2.6 Special Kinds of Matrices and Vectors"
   ]
  },
  {
   "cell_type": "code",
   "execution_count": 1,
   "metadata": {},
   "outputs": [],
   "source": [
    "import torch"
   ]
  },
  {
   "cell_type": "markdown",
   "metadata": {},
   "source": [
    "### Diagonal matrix"
   ]
  },
  {
   "cell_type": "code",
   "execution_count": 2,
   "metadata": {},
   "outputs": [
    {
     "name": "stdout",
     "output_type": "stream",
     "text": [
      "v: \n",
      " tensor([1., 6., 5., 1., 9.])\n",
      "Diagonal matrix D: \n",
      " tensor([[1., 0., 0., 0., 0.],\n",
      "        [0., 6., 0., 0., 0.],\n",
      "        [0., 0., 5., 0., 0.],\n",
      "        [0., 0., 0., 1., 0.],\n",
      "        [0., 0., 0., 0., 9.]])\n"
     ]
    }
   ],
   "source": [
    "v = torch.randint(1, 10, [5]).float()\n",
    "D = torch.diag(v)\n",
    "print(\"v: \\n\", v)\n",
    "print(\"Diagonal matrix D: \\n\", D)"
   ]
  },
  {
   "cell_type": "code",
   "execution_count": 3,
   "metadata": {},
   "outputs": [
    {
     "name": "stdout",
     "output_type": "stream",
     "text": [
      "Inverse of D: \n",
      " tensor([[1.0000, 0.0000, 0.0000, 0.0000, -0.0000],\n",
      "        [0.0000, 0.1667, 0.0000, 0.0000, -0.0000],\n",
      "        [0.0000, 0.0000, 0.2000, 0.0000, -0.0000],\n",
      "        [0.0000, 0.0000, 0.0000, 1.0000, -0.0000],\n",
      "        [0.0000, 0.0000, 0.0000, 0.0000, 0.1111]])\n"
     ]
    }
   ],
   "source": [
    "print(\"Inverse of D: \\n\", D.inverse())"
   ]
  },
  {
   "cell_type": "code",
   "execution_count": 4,
   "metadata": {},
   "outputs": [
    {
     "name": "stdout",
     "output_type": "stream",
     "text": [
      "diag(v)x: \n",
      " tensor([ 3., 48., 40.,  2., 45.])\n",
      "Hadamard product: \n",
      " tensor([ 3., 48., 40.,  2., 45.])\n"
     ]
    }
   ],
   "source": [
    "x = torch.randint(1, 10, [5]).float()\n",
    "print(\"diag(v)x: \\n\", D.mv(x))\n",
    "print(\"Hadamard product: \\n\", v * x)"
   ]
  },
  {
   "cell_type": "markdown",
   "metadata": {},
   "source": [
    "### Symmetric matrix"
   ]
  },
  {
   "cell_type": "code",
   "execution_count": 5,
   "metadata": {},
   "outputs": [
    {
     "name": "stdout",
     "output_type": "stream",
     "text": [
      "A: \n",
      " tensor([[1, 3, 5],\n",
      "        [3, 4, 2],\n",
      "        [5, 2, 1]], dtype=torch.int32)\n",
      "Transpose of A: \n",
      " tensor([[1, 3, 5],\n",
      "        [3, 4, 2],\n",
      "        [5, 2, 1]], dtype=torch.int32)\n",
      "A equals to the transpose of A?: True\n"
     ]
    }
   ],
   "source": [
    "A = torch.IntTensor([[1, 3, 5], [3, 4, 2], [5, 2, 1]])\n",
    "print(\"A: \\n\", A)\n",
    "print(\"Transpose of A: \\n\", A.t())\n",
    "print(\"A equals to the transpose of A?:\", torch.all(A.eq(A.t())).item() == 1)"
   ]
  },
  {
   "cell_type": "markdown",
   "metadata": {},
   "source": [
    "### Unit vector"
   ]
  },
  {
   "cell_type": "code",
   "execution_count": 6,
   "metadata": {},
   "outputs": [
    {
     "name": "stdout",
     "output_type": "stream",
     "text": [
      "The L2 norm of v: 1.0\n"
     ]
    }
   ],
   "source": [
    "v = torch.Tensor([0.6, 0.8])\n",
    "print(\"The L2 norm of v:\", v.norm(2).item())"
   ]
  },
  {
   "cell_type": "markdown",
   "metadata": {},
   "source": [
    "### Orthogonal vector and matrix"
   ]
  },
  {
   "cell_type": "code",
   "execution_count": 7,
   "metadata": {},
   "outputs": [
    {
     "name": "stdout",
     "output_type": "stream",
     "text": [
      "xTy: \n",
      " tensor(0.)\n",
      "xTy (orthonormal): \n",
      " tensor(0.)\n",
      "L2 norm of x and y(orthonormal): \n",
      " tensor(1.) tensor(1.)\n",
      "Orthogonal matrix A: \n",
      " tensor([[ 0.7071,  0.0000, -0.7071],\n",
      "        [ 0.5000,  0.7071,  0.5000],\n",
      "        [ 0.5000, -0.7071,  0.5000]])\n",
      "A^TA: \n",
      " tensor([[1., 0., 0.],\n",
      "        [0., 1., 0.],\n",
      "        [0., 0., 1.]])\n",
      "AA^T: \n",
      " tensor([[1., 0., 0.],\n",
      "        [0., 1., 0.],\n",
      "        [0., 0., 1.]])\n",
      "A^-1: \n",
      " tensor([[ 7.0711e-01,  5.0000e-01,  5.0000e-01],\n",
      "        [ 1.2688e-08,  7.0711e-01, -7.0711e-01],\n",
      "        [-7.0711e-01,  5.0000e-01,  5.0000e-01]])\n",
      "A^T: \n",
      " tensor([[ 0.7071,  0.5000,  0.5000],\n",
      "        [ 0.0000,  0.7071, -0.7071],\n",
      "        [-0.7071,  0.5000,  0.5000]])\n"
     ]
    }
   ],
   "source": [
    "import math\n",
    "\n",
    "# orthogoal vector\n",
    "x = torch.Tensor([0, 5])\n",
    "y = torch.Tensor([4, 0])\n",
    "print(\"xTy: \\n\", x.dot(y))\n",
    "\n",
    "# orthonormal vector\n",
    "x = torch.Tensor([0.6, 0, 0.8, 0])\n",
    "y = torch.Tensor([0, 0.6, 0, 0.8])\n",
    "print(\"xTy (orthonormal): \\n\", x.dot(y))\n",
    "print(\"L2 norm of x and y(orthonormal): \\n\", x.norm(2), y.norm(2))\n",
    "\n",
    "# orthogonal matrix\n",
    "sqrt_2 = math.sqrt(2)\n",
    "A = torch.Tensor([[1/sqrt_2, 0, -1/sqrt_2], [1/2, sqrt_2/2, 1/2], [1/2, -sqrt_2/2, 1/2]])\n",
    "print(\"Orthogonal matrix A: \\n\", A)\n",
    "print(\"A^TA: \\n\", A.t().matmul(A).round()) # sloppy rounding again\n",
    "print(\"AA^T: \\n\", A.matmul(A.t()).round())\n",
    "print(\"A^-1: \\n\", A.inverse())\n",
    "print(\"A^T: \\n\", A.t())"
   ]
  },
  {
   "cell_type": "code",
   "execution_count": null,
   "metadata": {},
   "outputs": [],
   "source": []
  }
 ],
 "metadata": {
  "kernelspec": {
   "display_name": "Python 3",
   "language": "python",
   "name": "python3"
  },
  "language_info": {
   "codemirror_mode": {
    "name": "ipython",
    "version": 3
   },
   "file_extension": ".py",
   "mimetype": "text/x-python",
   "name": "python",
   "nbconvert_exporter": "python",
   "pygments_lexer": "ipython3",
   "version": "3.5.2"
  }
 },
 "nbformat": 4,
 "nbformat_minor": 2
}
