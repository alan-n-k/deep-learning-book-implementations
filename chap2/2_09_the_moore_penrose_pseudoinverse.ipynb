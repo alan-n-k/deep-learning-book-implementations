{
 "cells": [
  {
   "cell_type": "markdown",
   "metadata": {},
   "source": [
    "# 2 Linear Algebra"
   ]
  },
  {
   "cell_type": "markdown",
   "metadata": {},
   "source": [
    "## The Moore-Penrose Pseudoinverse"
   ]
  },
  {
   "cell_type": "code",
   "execution_count": 1,
   "metadata": {},
   "outputs": [],
   "source": [
    "import torch"
   ]
  },
  {
   "cell_type": "code",
   "execution_count": 2,
   "metadata": {},
   "outputs": [
    {
     "name": "stdout",
     "output_type": "stream",
     "text": [
      "A: \n",
      " tensor([[5., 8.],\n",
      "        [2., 9.],\n",
      "        [3., 3.]])\n"
     ]
    }
   ],
   "source": [
    "A = torch.FloatTensor([[5,8],[2,9],[3,3]])\n",
    "print(\"A: \\n\", A)"
   ]
  },
  {
   "cell_type": "code",
   "execution_count": 3,
   "metadata": {},
   "outputs": [
    {
     "name": "stdout",
     "output_type": "stream",
     "text": [
      "U: \n",
      " tensor([[-0.6885,  0.4500, -0.5688],\n",
      "        [-0.6636, -0.7072,  0.2438],\n",
      "        [-0.2926,  0.5453,  0.7855]])\n",
      "D: \n",
      " tensor([[13.5874,  0.0000],\n",
      "        [ 0.0000,  2.7171],\n",
      "        [ 0.0000,  0.0000]])\n",
      "V: \n",
      " tensor([[-0.4156,  0.9095],\n",
      "        [-0.9095, -0.4156]])\n",
      "Singular decomposition of A: \n",
      " tensor([[5.0000, 8.0000],\n",
      "        [2.0000, 9.0000],\n",
      "        [3.0000, 3.0000]])\n"
     ]
    }
   ],
   "source": [
    "U, D_tmp, V = A.svd(some=False)\n",
    "\n",
    "D = torch.zeros([U.size()[0], V.size()[0]])\n",
    "D[:-1,:] = D_tmp.diag()\n",
    "\n",
    "print(\"U: \\n\", U)\n",
    "print(\"D: \\n\", D)\n",
    "print(\"V: \\n\", V)\n",
    "print(\"Singular decomposition of A: \\n\", U.matmul(D).matmul(V.t()))"
   ]
  },
  {
   "cell_type": "code",
   "execution_count": 4,
   "metadata": {},
   "outputs": [
    {
     "name": "stdout",
     "output_type": "stream",
     "text": [
      "D: \n",
      " tensor([[13.5874,  0.0000],\n",
      "        [ 0.0000,  2.7171],\n",
      "        [ 0.0000,  0.0000]])\n",
      "D+ (Pseudoinverse of D): \n",
      " tensor([[0.0736, 0.0000],\n",
      "        [0.0000, 0.3680],\n",
      "        [0.0000, 0.0000]])\n",
      "A+ (Pseudoinverse of A): \n",
      " tensor([[ 0.1717, -0.0227],\n",
      "        [-0.2164,  0.1526],\n",
      "        [ 0.1915, -0.0638]])\n",
      "A+^-1A: \n",
      " tensor([[1, 0],\n",
      "        [0, 1]], dtype=torch.int32)\n"
     ]
    }
   ],
   "source": [
    "D_pseudoinverse = torch.where(D > 0, D ** -1, torch.Tensor([0]))\n",
    "A_pseudoinverse = U.matmul(D_pseudoinverse).matmul(V.t())\n",
    "print(\"D: \\n\", D)\n",
    "print(\"D+ (Pseudoinverse of D): \\n\", D_pseudoinverse)\n",
    "print(\"A+ (Pseudoinverse of A): \\n\", A_pseudoinverse)\n",
    "print(\"A+^-1A: \\n\", A_pseudoinverse.t().matmul(A).int())"
   ]
  },
  {
   "cell_type": "code",
   "execution_count": null,
   "metadata": {},
   "outputs": [],
   "source": []
  }
 ],
 "metadata": {
  "kernelspec": {
   "display_name": "Python 3",
   "language": "python",
   "name": "python3"
  },
  "language_info": {
   "codemirror_mode": {
    "name": "ipython",
    "version": 3
   },
   "file_extension": ".py",
   "mimetype": "text/x-python",
   "name": "python",
   "nbconvert_exporter": "python",
   "pygments_lexer": "ipython3",
   "version": "3.5.2"
  }
 },
 "nbformat": 4,
 "nbformat_minor": 2
}
