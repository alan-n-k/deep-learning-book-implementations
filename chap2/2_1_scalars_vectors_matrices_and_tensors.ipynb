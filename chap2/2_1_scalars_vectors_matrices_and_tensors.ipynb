{
 "cells": [
  {
   "cell_type": "markdown",
   "metadata": {},
   "source": [
    "# 2 Linear Algebra"
   ]
  },
  {
   "cell_type": "markdown",
   "metadata": {},
   "source": [
    "## 2.1 Scalars, Vectors, Matrices and Tensors"
   ]
  },
  {
   "cell_type": "code",
   "execution_count": 1,
   "metadata": {},
   "outputs": [],
   "source": [
    "import torch"
   ]
  },
  {
   "cell_type": "code",
   "execution_count": 2,
   "metadata": {},
   "outputs": [
    {
     "name": "stdout",
     "output_type": "stream",
     "text": [
      "Scalar: \n",
      " tensor([1])\n",
      "Horizontal Vector: \n",
      " tensor([1., 1., 1., 1.])\n",
      "Vertical Vector: \n",
      " tensor([[1.],\n",
      "        [1.],\n",
      "        [1.],\n",
      "        [1.]])\n",
      "Matrix: \n",
      " tensor([[1., 1., 1.],\n",
      "        [1., 1., 1.],\n",
      "        [1., 1., 1.],\n",
      "        [1., 1., 1.]])\n",
      "Tensor: \n",
      " tensor([[[1., 1.],\n",
      "         [1., 1.],\n",
      "         [1., 1.]],\n",
      "\n",
      "        [[1., 1.],\n",
      "         [1., 1.],\n",
      "         [1., 1.]],\n",
      "\n",
      "        [[1., 1.],\n",
      "         [1., 1.],\n",
      "         [1., 1.]],\n",
      "\n",
      "        [[1., 1.],\n",
      "         [1., 1.],\n",
      "         [1., 1.]]])\n"
     ]
    }
   ],
   "source": [
    "print(\"Scalar: \\n\", torch.tensor([1]))\n",
    "print(\"Horizontal Vector: \\n\", torch.ones(4))\n",
    "print(\"Vertical Vector: \\n\", torch.ones(4).reshape(-1, 1))\n",
    "print(\"Matrix: \\n\", torch.ones([4, 3]))\n",
    "print(\"Tensor: \\n\", torch.ones([4, 3, 2]))"
   ]
  },
  {
   "cell_type": "markdown",
   "metadata": {},
   "source": [
    "Note that in  Pytorch, scalar, vector, matrix, tensor are all dealt as Tensor objects as tensor is generalization of them."
   ]
  },
  {
   "cell_type": "code",
   "execution_count": 3,
   "metadata": {},
   "outputs": [
    {
     "name": "stdout",
     "output_type": "stream",
     "text": [
      "A: \n",
      " tensor([[47,  1, 56],\n",
      "        [40,  9, 50],\n",
      "        [ 5, 39, 11],\n",
      "        [32, 63, 59]])\n",
      "Transpose of A: \n",
      " tensor([[47, 40,  5, 32],\n",
      "        [ 1,  9, 39, 63],\n",
      "        [56, 50, 11, 59]])\n"
     ]
    }
   ],
   "source": [
    "# Transpose\n",
    "A = torch.randint(1, 100, [4, 3])\n",
    "print(\"A: \\n\", A)\n",
    "print(\"Transpose of A: \\n\", A.t())"
   ]
  },
  {
   "cell_type": "code",
   "execution_count": 4,
   "metadata": {},
   "outputs": [
    {
     "name": "stdout",
     "output_type": "stream",
     "text": [
      "A: \n",
      " tensor([[5, 2],\n",
      "        [5, 6],\n",
      "        [1, 7]], dtype=torch.int32)\n",
      "B: \n",
      " tensor([[1, 5],\n",
      "        [1, 5],\n",
      "        [9, 2]], dtype=torch.int32)\n",
      "v: \n",
      " tensor([[2],\n",
      "        [3],\n",
      "        [2]], dtype=torch.int32)\n",
      "c: \n",
      " tensor([10], dtype=torch.int32)\n",
      "A + c: \n",
      " tensor([[15, 12],\n",
      "        [15, 16],\n",
      "        [11, 17]], dtype=torch.int32)\n",
      "A + B: \n",
      " tensor([[ 6,  7],\n",
      "        [ 6, 11],\n",
      "        [10,  9]], dtype=torch.int32)\n",
      "A + v: \n",
      " tensor([[7, 4],\n",
      "        [8, 9],\n",
      "        [3, 9]], dtype=torch.int32)\n"
     ]
    }
   ],
   "source": [
    "# Adding a scalar, vector or matrix to another matrix\n",
    "A = torch.randint(1, 10, [3, 2], dtype=torch.int32)\n",
    "B = torch.randint(1, 10, [3, 2], dtype=torch.int32)\n",
    "v = torch.randint(1, 10, [3], dtype=torch.int32)\n",
    "c = torch.IntTensor([10])\n",
    "\n",
    "print(\"A: \\n\", A)\n",
    "print(\"B: \\n\", B)\n",
    "print(\"v: \\n\", v.reshape(-1, 1))\n",
    "print(\"c: \\n\", c)\n",
    "print(\"A + c: \\n\", A + c)\n",
    "print(\"A + B: \\n\", A + B)\n",
    "print(\"A + v: \\n\", A + v.reshape(-1, 1))"
   ]
  },
  {
   "cell_type": "markdown",
   "metadata": {},
   "source": [
    "Here we converted the horizontal vector to vertical as the size of the row should be the same between each other."
   ]
  },
  {
   "cell_type": "code",
   "execution_count": null,
   "metadata": {},
   "outputs": [],
   "source": []
  }
 ],
 "metadata": {
  "kernelspec": {
   "display_name": "Python 3",
   "language": "python",
   "name": "python3"
  },
  "language_info": {
   "codemirror_mode": {
    "name": "ipython",
    "version": 3
   },
   "file_extension": ".py",
   "mimetype": "text/x-python",
   "name": "python",
   "nbconvert_exporter": "python",
   "pygments_lexer": "ipython3",
   "version": "3.5.2"
  }
 },
 "nbformat": 4,
 "nbformat_minor": 2
}
