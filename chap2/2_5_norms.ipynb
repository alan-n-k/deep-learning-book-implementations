{
 "cells": [
  {
   "cell_type": "markdown",
   "metadata": {},
   "source": [
    "# 2 Linear Algebra"
   ]
  },
  {
   "cell_type": "markdown",
   "metadata": {},
   "source": [
    "## 2.5 Norms"
   ]
  },
  {
   "cell_type": "code",
   "execution_count": 1,
   "metadata": {},
   "outputs": [],
   "source": [
    "import torch"
   ]
  },
  {
   "cell_type": "code",
   "execution_count": 2,
   "metadata": {},
   "outputs": [
    {
     "name": "stdout",
     "output_type": "stream",
     "text": [
      "v: \n",
      " tensor([3., 1., 1., 2., 7.])\n"
     ]
    }
   ],
   "source": [
    "v = torch.randint(1, 10, [5]).float()\n",
    "print(\"v: \\n\", v)"
   ]
  },
  {
   "cell_type": "code",
   "execution_count": 3,
   "metadata": {},
   "outputs": [
    {
     "name": "stdout",
     "output_type": "stream",
     "text": [
      "L1 norm: \n",
      " tensor(14.)\n",
      "L2 norm: \n",
      " tensor(8.)\n",
      "L3 norm: \n",
      " tensor(7.2432)\n"
     ]
    }
   ],
   "source": [
    "print(\"L1 norm: \\n\", v.norm(1))\n",
    "print(\"L2 norm: \\n\", v.norm(2))\n",
    "print(\"L3 norm: \\n\", v.norm(3))"
   ]
  },
  {
   "cell_type": "markdown",
   "metadata": {},
   "source": [
    "Although PyTorch by default provides norm function to easily calculate Ln norm, let's validate if the actual math operation shows the same results above."
   ]
  },
  {
   "cell_type": "code",
   "execution_count": 4,
   "metadata": {},
   "outputs": [
    {
     "name": "stdout",
     "output_type": "stream",
     "text": [
      "L1 norm: \n",
      " tensor(14.)\n",
      "L2 norm: \n",
      " tensor(8.)\n",
      "L3 norm: \n",
      " tensor(7.2432)\n"
     ]
    }
   ],
   "source": [
    "print(\"L1 norm: \\n\", v.sum())\n",
    "print(\"L2 norm: \\n\", (v ** 2).sum() ** (1/2))\n",
    "print(\"L3 norm: \\n\", (v ** 3).sum() ** (1/3))"
   ]
  },
  {
   "cell_type": "markdown",
   "metadata": {},
   "source": [
    "Voila!"
   ]
  },
  {
   "cell_type": "code",
   "execution_count": 5,
   "metadata": {},
   "outputs": [
    {
     "name": "stdout",
     "output_type": "stream",
     "text": [
      "Squared L2 norm (1): \n",
      " tensor(64.)\n",
      "Squared L2 norm (2): \n",
      " tensor(64.)\n"
     ]
    }
   ],
   "source": [
    "print(\"Squared L2 norm (1): \\n\", v.norm(2) ** 2)\n",
    "print(\"Squared L2 norm (2): \\n\", v.dot(v))"
   ]
  },
  {
   "cell_type": "code",
   "execution_count": 6,
   "metadata": {},
   "outputs": [
    {
     "name": "stdout",
     "output_type": "stream",
     "text": [
      "Max norm: \n",
      " tensor(7.)\n"
     ]
    }
   ],
   "source": [
    "print(\"Max norm: \\n\", v.norm(float(\"inf\")))"
   ]
  },
  {
   "cell_type": "markdown",
   "metadata": {},
   "source": [
    "You can easily imagine why the L-infinity norm takes the max number of the vector by seeing the following equation:\n",
    "$$||x||p = (|x_1|^p + |x_2|^p + ... + |x_n|^p)^\\frac{1}{p}$$\n",
    "When p is big enough, you can ignore numbers other than the one with the biggest number as they are much smaller than the biggest one."
   ]
  },
  {
   "cell_type": "code",
   "execution_count": 7,
   "metadata": {},
   "outputs": [
    {
     "name": "stdout",
     "output_type": "stream",
     "text": [
      "A: \n",
      " tensor([[8., 4., 8.],\n",
      "        [9., 8., 4.],\n",
      "        [8., 3., 4.]])\n"
     ]
    }
   ],
   "source": [
    "A = torch.randint(1, 10, [3, 3]).float()\n",
    "print(\"A: \\n\", A)"
   ]
  },
  {
   "cell_type": "code",
   "execution_count": 8,
   "metadata": {},
   "outputs": [
    {
     "name": "stdout",
     "output_type": "stream",
     "text": [
      "Frobenius norm of A (1): \n",
      " tensor(19.8494)\n",
      "Frobenius norm of A (2): \n",
      " tensor(19.8494)\n"
     ]
    }
   ],
   "source": [
    "print(\"Frobenius norm of A (1): \\n\", A.norm(2))\n",
    "print(\"Frobenius norm of A (2): \\n\", (A ** 2).sum() ** (1/2))"
   ]
  },
  {
   "cell_type": "code",
   "execution_count": null,
   "metadata": {},
   "outputs": [],
   "source": [
    " "
   ]
  }
 ],
 "metadata": {
  "kernelspec": {
   "display_name": "Python 3",
   "language": "python",
   "name": "python3"
  },
  "language_info": {
   "codemirror_mode": {
    "name": "ipython",
    "version": 3
   },
   "file_extension": ".py",
   "mimetype": "text/x-python",
   "name": "python",
   "nbconvert_exporter": "python",
   "pygments_lexer": "ipython3",
   "version": "3.5.2"
  }
 },
 "nbformat": 4,
 "nbformat_minor": 2
}
