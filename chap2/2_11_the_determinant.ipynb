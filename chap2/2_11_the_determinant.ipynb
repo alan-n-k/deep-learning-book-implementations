{
 "cells": [
  {
   "cell_type": "markdown",
   "metadata": {},
   "source": [
    "# 2 Linear Algebra"
   ]
  },
  {
   "cell_type": "markdown",
   "metadata": {},
   "source": [
    "## 2.11 The Determinant"
   ]
  },
  {
   "cell_type": "code",
   "execution_count": 1,
   "metadata": {},
   "outputs": [],
   "source": [
    "import torch"
   ]
  },
  {
   "cell_type": "code",
   "execution_count": 2,
   "metadata": {},
   "outputs": [
    {
     "name": "stdout",
     "output_type": "stream",
     "text": [
      "A: \n",
      " tensor([[1., 5.],\n",
      "        [4., 3.]])\n"
     ]
    }
   ],
   "source": [
    "A = torch.Tensor([[1,5],[4,3]])\n",
    "print(\"A: \\n\", A)"
   ]
  },
  {
   "cell_type": "markdown",
   "metadata": {},
   "source": [
    "First of all, let's calculate the determinant of A manually.\n",
    "The formula of determinant is:\n",
    "\n",
    "$$det(A) = |ad - bc|$$\n",
    "\n",
    "where\n",
    "\n",
    "\n",
    "$$\n",
    "A = \\left(\n",
    "    \\begin{array}{cc}\n",
    "      a & b \\\\\n",
    "      c & d\n",
    "    \\end{array}\n",
    "  \\right)\n",
    "$$\n"
   ]
  },
  {
   "cell_type": "code",
   "execution_count": 3,
   "metadata": {},
   "outputs": [
    {
     "name": "stdout",
     "output_type": "stream",
     "text": [
      "det(A): \n",
      " tensor(-17.)\n"
     ]
    }
   ],
   "source": [
    "print(\"det(A): \\n\", A[0][0]*A[1][1] - A[1][0]*A[0][1])"
   ]
  },
  {
   "cell_type": "markdown",
   "metadata": {},
   "source": [
    "Now, let's calculate it by using eigenvalues."
   ]
  },
  {
   "cell_type": "code",
   "execution_count": 4,
   "metadata": {},
   "outputs": [
    {
     "name": "stdout",
     "output_type": "stream",
     "text": [
      "Eigenvalues of A: \n",
      " tensor([-2.5826,  6.5826])\n",
      "det(A) (using eigenvalues): \n",
      " tensor(-17.)\n"
     ]
    }
   ],
   "source": [
    "A_eigvals = A.eig()[0][:,0]\n",
    "print(\"Eigenvalues of A: \\n\", A_eigvals)\n",
    "print(\"det(A) (using eigenvalues): \\n\", A_eigvals[0] * A_eigvals[1])"
   ]
  },
  {
   "cell_type": "code",
   "execution_count": null,
   "metadata": {},
   "outputs": [],
   "source": []
  }
 ],
 "metadata": {
  "kernelspec": {
   "display_name": "Python 3",
   "language": "python",
   "name": "python3"
  },
  "language_info": {
   "codemirror_mode": {
    "name": "ipython",
    "version": 3
   },
   "file_extension": ".py",
   "mimetype": "text/x-python",
   "name": "python",
   "nbconvert_exporter": "python",
   "pygments_lexer": "ipython3",
   "version": "3.5.2"
  }
 },
 "nbformat": 4,
 "nbformat_minor": 2
}
