{
 "cells": [
  {
   "cell_type": "markdown",
   "metadata": {},
   "source": [
    "# 2 Linear Algebra"
   ]
  },
  {
   "cell_type": "markdown",
   "metadata": {},
   "source": [
    "## 2.7 Eigendecomposition"
   ]
  },
  {
   "cell_type": "code",
   "execution_count": 1,
   "metadata": {},
   "outputs": [],
   "source": [
    "import torch\n",
    "import matplotlib.pyplot as plt\n",
    "%matplotlib inline"
   ]
  },
  {
   "cell_type": "code",
   "execution_count": 2,
   "metadata": {},
   "outputs": [
    {
     "name": "stdout",
     "output_type": "stream",
     "text": [
      "A: \n",
      " tensor([[1., 9.],\n",
      "        [2., 4.]])\n",
      "Eigenvalues of A: \n",
      " tensor([[-2.0000,  0.0000],\n",
      "        [ 0.0000,  7.0000]])\n",
      "Eigenvectors of A: \n",
      " tensor([[-0.9487, -0.8321],\n",
      "        [ 0.3162, -0.5547]])\n",
      "L2 Norm of an eigenvector: \n",
      " tensor(1.0000)\n",
      "Eigendecomposition of A: \n",
      " tensor([[1.0000, 9.0000],\n",
      "        [2.0000, 4.0000]])\n"
     ]
    }
   ],
   "source": [
    "A = torch.Tensor([[1, 9], [2, 4.]])\n",
    "\n",
    "A_eigvals, A_eigvecs = A.eig(eigenvectors=True)\n",
    "\n",
    "# A_eigval[:,1] is imaginary part. We can omit this part as the contentss in the part are all 0 here.\n",
    "A_eigvals = A_eigvals[:,0].diag()\n",
    "\n",
    "print(\"A: \\n\", A)\n",
    "print(\"Eigenvalues of A: \\n\", A_eigvals) \n",
    "print(\"Eigenvectors of A: \\n\", A_eigvecs)\n",
    "print(\"L2 Norm of an eigenvector: \\n\", A_eigvecs[:,0].norm(2))\n",
    "print(\"Eigendecomposition of A: \\n\", A_eigvecs.matmul(A_eigvals).matmul(A_eigvecs.inverse()))"
   ]
  },
  {
   "cell_type": "markdown",
   "metadata": {},
   "source": [
    "### Visualization of matrix multiplication"
   ]
  },
  {
   "cell_type": "code",
   "execution_count": 3,
   "metadata": {},
   "outputs": [
    {
     "data": {
      "text/plain": [
       "<matplotlib.legend.Legend at 0x7f0b596c3978>"
      ]
     },
     "execution_count": 3,
     "metadata": {},
     "output_type": "execute_result"
    },
    {
     "data": {
      "image/png": "[encoded data removed]",
      "text/plain": [
       "<matplotlib.figure.Figure at 0x7f0b5b749668>"
      ]
     },
     "metadata": {},
     "output_type": "display_data"
    }
   ],
   "source": [
    "def show_2d_vectors(vectors, label, color):\n",
    "    plt.quiver(0, 0, vectors[0,:].numpy(), vectors[1,:].numpy(), scale=100, units=\"xy\", label=label, color=color)\n",
    "\n",
    "plt.figure(figsize=(12,5))\n",
    "\n",
    "plt.subplot(121)\n",
    "plt.title(\"Normal vector\")\n",
    "vectors = torch.FloatTensor([[0.6, 1.0], [0.8, 0.0]])\n",
    "converted_vectors = A.matmul(vectors)\n",
    "show_2d_vectors(vectors, label=\"Vector\", color=\"black\")\n",
    "show_2d_vectors(converted_vectors, label=\"Vector converted by A\", color=\"red\")\n",
    "plt.legend()\n",
    "\n",
    "plt.subplot(122)\n",
    "plt.title(\"Eigenvector\")\n",
    "converted_eigvecs = A.matmul(A_eigvecs)\n",
    "show_2d_vectors(A_eigvecs, label=\"Eigenvector\", color=\"black\")\n",
    "show_2d_vectors(converted_eigvecs, label=\"Eigenvector converted by A\", color=\"red\")\n",
    "plt.legend()"
   ]
  },
  {
   "cell_type": "markdown",
   "metadata": {},
   "source": [
    "### Symmetric matrix"
   ]
  },
  {
   "cell_type": "code",
   "execution_count": 4,
   "metadata": {},
   "outputs": [
    {
     "name": "stdout",
     "output_type": "stream",
     "text": [
      "A: \n",
      " tensor([[2., 4.],\n",
      "        [4., 2.]])\n",
      "Eigenvalues of A: \n",
      " tensor([[ 6.,  0.],\n",
      "        [ 0., -2.]])\n",
      "Q (Eigenvectors of A): \n",
      " tensor([[ 0.7071, -0.7071],\n",
      "        [ 0.7071,  0.7071]])\n",
      "Check if Q is an authogonal matrix by calculating L2 norms of each row and column: \n",
      " tensor(1.) tensor(1.) tensor(1.0000) tensor(1.0000)\n",
      "Eigendecomposition of A: \n",
      " tensor([[2.0000, 4.0000],\n",
      "        [4.0000, 2.0000]])\n"
     ]
    }
   ],
   "source": [
    "A = torch.Tensor([[2, 4], [4, 2]])\n",
    "A_eigvals, Q = A.eig(eigenvectors=True)\n",
    "A_eigvals = A_eigvals[:,0].diag()\n",
    "print(\"A: \\n\", A)\n",
    "print(\"Eigenvalues of A: \\n\", A_eigvals)\n",
    "print(\"Q (Eigenvectors of A): \\n\", Q)\n",
    "print(\"Check if Q is an authogonal matrix by calculating L2 norms of each row and column: \\n\",\n",
    "      Q[0,:].norm(2), Q[1,:].norm(2), Q[:,0].norm(2), Q[:,1].norm(2))\n",
    "print(\"Eigendecomposition of A: \\n\", Q.matmul(A_eigvals).matmul(Q.t()))"
   ]
  },
  {
   "cell_type": "code",
   "execution_count": null,
   "metadata": {},
   "outputs": [],
   "source": []
  }
 ],
 "metadata": {
  "kernelspec": {
   "display_name": "Python 3",
   "language": "python",
   "name": "python3"
  },
  "language_info": {
   "codemirror_mode": {
    "name": "ipython",
    "version": 3
   },
   "file_extension": ".py",
   "mimetype": "text/x-python",
   "name": "python",
   "nbconvert_exporter": "python",
   "pygments_lexer": "ipython3",
   "version": "3.5.2"
  }
 },
 "nbformat": 4,
 "nbformat_minor": 2
}
