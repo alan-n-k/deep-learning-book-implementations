{
 "cells": [
  {
   "cell_type": "markdown",
   "metadata": {},
   "source": [
    "# 2 Linear Algebra"
   ]
  },
  {
   "cell_type": "markdown",
   "metadata": {},
   "source": [
    "## 2.2 Multiplying Matrices and Vectors"
   ]
  },
  {
   "cell_type": "code",
   "execution_count": 1,
   "metadata": {},
   "outputs": [],
   "source": [
    "import torch"
   ]
  },
  {
   "cell_type": "code",
   "execution_count": 2,
   "metadata": {},
   "outputs": [
    {
     "name": "stdout",
     "output_type": "stream",
     "text": [
      "A: \n",
      " tensor([[9, 9],\n",
      "        [2, 2],\n",
      "        [4, 6]], dtype=torch.int32)\n",
      "B: \n",
      " tensor([[4, 5, 4, 3],\n",
      "        [2, 5, 1, 9]], dtype=torch.int32)\n",
      "C: \n",
      " tensor([[ 54,  90,  45, 108],\n",
      "        [ 12,  20,  10,  24],\n",
      "        [ 28,  50,  22,  66]], dtype=torch.int32)\n"
     ]
    }
   ],
   "source": [
    "A = torch.IntTensor([[9, 9], [2, 2], [4, 6]])\n",
    "B = torch.IntTensor([[4, 5, 4, 3], [2, 5, 1, 9]])\n",
    "C = A.matmul(B)\n",
    "\n",
    "print(\"A: \\n\", A)\n",
    "print(\"B: \\n\", B)\n",
    "print(\"C: \\n\", C)"
   ]
  },
  {
   "cell_type": "markdown",
   "metadata": {},
   "source": [
    "If you don't understand what's going on here, you can refer to the following resource:\n",
    "[Mechanics of Matrix Multiplication (wikibooks.org)](https://en.wikibooks.org/wiki/Linear_Algebra/Mechanics_of_Matrix_Multiplication)."
   ]
  },
  {
   "cell_type": "code",
   "execution_count": 3,
   "metadata": {},
   "outputs": [
    {
     "name": "stdout",
     "output_type": "stream",
     "text": [
      "A: \n",
      " tensor([[9, 8, 7],\n",
      "        [5, 4, 3],\n",
      "        [3, 3, 9],\n",
      "        [6, 5, 3]], dtype=torch.int32)\n",
      "B: \n",
      " tensor([[1, 5, 4],\n",
      "        [8, 4, 3],\n",
      "        [9, 8, 6]], dtype=torch.int32)\n",
      "C: \n",
      " tensor([[9, 1, 2],\n",
      "        [1, 8, 9],\n",
      "        [5, 9, 8]], dtype=torch.int32)\n",
      "A(B+C): \n",
      " tensor([[260, 269, 248],\n",
      "        [128, 129, 120],\n",
      "        [183, 207, 180],\n",
      "        [147, 147, 138]], dtype=torch.int32)\n",
      "AB + AC: \n",
      " tensor([[260, 269, 248],\n",
      "        [128, 129, 120],\n",
      "        [183, 207, 180],\n",
      "        [147, 147, 138]], dtype=torch.int32)\n",
      "A(BC): \n",
      " tensor([[1867, 2118, 2285],\n",
      "        [ 891, 1034, 1113],\n",
      "        [1446, 1575, 1707],\n",
      "        [1016, 1178, 1268]], dtype=torch.int32)\n",
      "(AB)C: \n",
      " tensor([[1867, 2118, 2285],\n",
      "        [ 891, 1034, 1113],\n",
      "        [1446, 1575, 1707],\n",
      "        [1016, 1178, 1268]], dtype=torch.int32)\n"
     ]
    }
   ],
   "source": [
    "A = torch.randint(1, 10, [4, 3], dtype=torch.int32)\n",
    "B = torch.randint(1, 10, [3, 3], dtype=torch.int32)\n",
    "C = torch.randint(1, 10, [3, 3], dtype=torch.int32)\n",
    "\n",
    "print(\"A: \\n\", A)\n",
    "print(\"B: \\n\", B)\n",
    "print(\"C: \\n\", C)\n",
    "print(\"A(B+C): \\n\", A.matmul(B + C))\n",
    "print(\"AB + AC: \\n\", A.matmul(B) + A.matmul(C))\n",
    "print(\"A(BC): \\n\", A.matmul(B.matmul(C)))\n",
    "print(\"(AB)C: \\n\", A.matmul(B).matmul(C))"
   ]
  },
  {
   "cell_type": "markdown",
   "metadata": {},
   "source": [
    "Oh by the way, note that torch.randint returns torch.LongTensor instead of torch.IntTensor unless we specify dtype as torch.int32 explicitly."
   ]
  },
  {
   "cell_type": "code",
   "execution_count": 4,
   "metadata": {},
   "outputs": [
    {
     "name": "stdout",
     "output_type": "stream",
     "text": [
      "A: \n",
      " tensor([[1, 2, 3],\n",
      "        [4, 5, 6],\n",
      "        [7, 8, 9]], dtype=torch.int32)\n",
      "B: \n",
      " tensor([[1, 4, 7],\n",
      "        [2, 5, 8],\n",
      "        [3, 5, 9]], dtype=torch.int32)\n",
      "AB: \n",
      " tensor([[ 14,  29,  50],\n",
      "        [ 32,  71, 122],\n",
      "        [ 50, 113, 194]], dtype=torch.int32)\n",
      "BA: \n",
      " tensor([[ 66,  78,  90],\n",
      "        [ 78,  93, 108],\n",
      "        [ 86, 103, 120]], dtype=torch.int32)\n",
      "x: \n",
      " tensor([4, 3, 5, 6, 5])\n",
      "y: \n",
      " tensor([3, 6, 6, 2, 2])\n",
      "x^Ty: \n",
      " tensor(82)\n",
      "y^Tx: \n",
      " tensor(82)\n",
      "(AB)^T: \n",
      " tensor([[ 14,  32,  50],\n",
      "        [ 29,  71, 113],\n",
      "        [ 50, 122, 194]], dtype=torch.int32)\n",
      "B^TA^T: \n",
      " tensor([[ 14,  32,  50],\n",
      "        [ 29,  71, 113],\n",
      "        [ 50, 122, 194]], dtype=torch.int32)\n"
     ]
    }
   ],
   "source": [
    "A = torch.IntTensor([[1,2,3],[4,5,6],[7,8,9]])\n",
    "B = torch.IntTensor([[1,4,7],[2,5,8],[3,5,9]])\n",
    "x = torch.randint(1, 10, [5])\n",
    "y = torch.randint(1, 10, [5])\n",
    "\n",
    "print(\"A: \\n\", A)\n",
    "print(\"B: \\n\", B)\n",
    "print(\"AB: \\n\", A.matmul(B))\n",
    "print(\"BA: \\n\", B.matmul(A))\n",
    "print(\"x: \\n\", x)\n",
    "print(\"y: \\n\", y)\n",
    "print(\"x^Ty: \\n\", x.dot(y))\n",
    "print(\"y^Tx: \\n\", y.dot(x))\n",
    "print(\"(AB)^T: \\n\", A.matmul(B).t())\n",
    "print(\"B^TA^T: \\n\", B.t().matmul(A.t()))"
   ]
  },
  {
   "cell_type": "code",
   "execution_count": 5,
   "metadata": {},
   "outputs": [
    {
     "name": "stdout",
     "output_type": "stream",
     "text": [
      "A: \n",
      " tensor([[ 1., -2.,  3.],\n",
      "        [ 3.,  1., -5.],\n",
      "        [-2.,  6., -9.]])\n",
      "b: \n",
      " tensor([ 1., -4., -2.])\n",
      "Ax = b; x = ?: \n",
      " tensor([[1.],\n",
      "        [3.],\n",
      "        [2.]])\n"
     ]
    }
   ],
   "source": [
    "A = torch.Tensor([[1, -2, 3], [3, 1, -5], [-2, 6, -9]])\n",
    "b = torch.Tensor([1, -4, -2])\n",
    "\n",
    "print(\"A: \\n\", A)\n",
    "print(\"b: \\n\", b)\n",
    "print(\"Ax = b; x = ?: \\n\", torch.gesv(b, A)[0])"
   ]
  },
  {
   "cell_type": "code",
   "execution_count": null,
   "metadata": {},
   "outputs": [],
   "source": []
  }
 ],
 "metadata": {
  "kernelspec": {
   "display_name": "Python 3",
   "language": "python",
   "name": "python3"
  },
  "language_info": {
   "codemirror_mode": {
    "name": "ipython",
    "version": 3
   },
   "file_extension": ".py",
   "mimetype": "text/x-python",
   "name": "python",
   "nbconvert_exporter": "python",
   "pygments_lexer": "ipython3",
   "version": "3.5.2"
  }
 },
 "nbformat": 4,
 "nbformat_minor": 2
}
