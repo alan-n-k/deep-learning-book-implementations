{
 "cells": [
  {
   "cell_type": "markdown",
   "metadata": {},
   "source": [
    "# 2 Linear Algebra"
   ]
  },
  {
   "cell_type": "markdown",
   "metadata": {},
   "source": [
    "## 2.3 Identity and Inverse Matrices"
   ]
  },
  {
   "cell_type": "code",
   "execution_count": 1,
   "metadata": {},
   "outputs": [],
   "source": [
    "import torch"
   ]
  },
  {
   "cell_type": "code",
   "execution_count": 2,
   "metadata": {},
   "outputs": [
    {
     "name": "stdout",
     "output_type": "stream",
     "text": [
      "A: \n",
      " tensor([[ 1., -2.,  3.],\n",
      "        [ 3.,  1., -5.],\n",
      "        [-2.,  6., -9.]])\n",
      "A^-1: \n",
      " tensor([[ 3.0000e+00, -2.9802e-08,  1.0000e+00],\n",
      "        [ 5.2857e+00, -4.2857e-01,  2.0000e+00],\n",
      "        [ 2.8571e+00, -2.8571e-01,  1.0000e+00]])\n",
      "b: \n",
      " tensor([ 1., -4., -2.])\n"
     ]
    }
   ],
   "source": [
    "A = torch.Tensor([[1, -2, 3], [3, 1, -5], [-2, 6, -9]])\n",
    "A_inv = A.inverse()\n",
    "b = torch.Tensor([1, -4, -2])\n",
    "\n",
    "print(\"A: \\n\", A)\n",
    "print(\"A^-1: \\n\", A_inv)\n",
    "print(\"b: \\n\", b)"
   ]
  },
  {
   "cell_type": "code",
   "execution_count": 3,
   "metadata": {},
   "outputs": [
    {
     "name": "stdout",
     "output_type": "stream",
     "text": [
      "A^-1A: \n",
      " tensor([[1, 0, 0],\n",
      "        [0, 1, 0],\n",
      "        [0, 0, 1]], dtype=torch.int32)\n"
     ]
    }
   ],
   "source": [
    "print(\"A^-1A: \\n\", A.inverse().matmul(A).round().int())"
   ]
  },
  {
   "cell_type": "markdown",
   "metadata": {},
   "source": [
    "Here I'm doing very sloppy rounding just for showing the identity matrix by a very simple way. So please don't do this on your production code."
   ]
  },
  {
   "cell_type": "code",
   "execution_count": 4,
   "metadata": {},
   "outputs": [
    {
     "name": "stdout",
     "output_type": "stream",
     "text": [
      "Ax = b; x = ?: \n",
      " tensor([1.0000, 3.0000, 2.0000])\n"
     ]
    }
   ],
   "source": [
    "print(\"Ax = b; x = ?: \\n\", A_inv.mv(b))"
   ]
  },
  {
   "cell_type": "code",
   "execution_count": null,
   "metadata": {},
   "outputs": [],
   "source": []
  }
 ],
 "metadata": {
  "kernelspec": {
   "display_name": "Python 3",
   "language": "python",
   "name": "python3"
  },
  "language_info": {
   "codemirror_mode": {
    "name": "ipython",
    "version": 3
   },
   "file_extension": ".py",
   "mimetype": "text/x-python",
   "name": "python",
   "nbconvert_exporter": "python",
   "pygments_lexer": "ipython3",
   "version": "3.5.2"
  }
 },
 "nbformat": 4,
 "nbformat_minor": 2
}
