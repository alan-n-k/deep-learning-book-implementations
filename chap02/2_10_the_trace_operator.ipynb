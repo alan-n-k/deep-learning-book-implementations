{
 "cells": [
  {
   "cell_type": "markdown",
   "metadata": {},
   "source": [
    "# 2 Linear Algebra"
   ]
  },
  {
   "cell_type": "markdown",
   "metadata": {},
   "source": [
    "## The Trace Operator"
   ]
  },
  {
   "cell_type": "code",
   "execution_count": 1,
   "metadata": {},
   "outputs": [],
   "source": [
    "import torch"
   ]
  },
  {
   "cell_type": "code",
   "execution_count": 2,
   "metadata": {},
   "outputs": [
    {
     "name": "stdout",
     "output_type": "stream",
     "text": [
      "A: \n",
      " tensor([[3., 7., 4.],\n",
      "        [5., 9., 1.],\n",
      "        [2., 2., 8.]])\n",
      "Trace of A: \n",
      " tensor(20.)\n",
      "Trace of A (using the function in PyTorch): \n",
      " tensor(20.)\n"
     ]
    }
   ],
   "source": [
    "A = torch.FloatTensor([[3,7,4],[5,9,1],[2,2,8]])\n",
    "print(\"A: \\n\", A)\n",
    "print(\"Trace of A: \\n\", A.diag().sum())\n",
    "print(\"Trace of A (using the function in PyTorch): \\n\", A.trace())"
   ]
  },
  {
   "cell_type": "code",
   "execution_count": 3,
   "metadata": {},
   "outputs": [
    {
     "name": "stdout",
     "output_type": "stream",
     "text": [
      "Frobenius norm of A: \n",
      " tensor(126.5000)\n",
      "Frobenius norm of A (using trace): \n",
      " tensor(126.5000)\n"
     ]
    }
   ],
   "source": [
    "print(\"Frobenius norm of A: \\n\", (A ** 2).sum() ** 1/2 )\n",
    "print(\"Frobenius norm of A (using trace): \\n\", A.matmul(A.t()).trace() ** 1/2)"
   ]
  },
  {
   "cell_type": "code",
   "execution_count": 4,
   "metadata": {},
   "outputs": [
    {
     "name": "stdout",
     "output_type": "stream",
     "text": [
      "A: \n",
      " tensor([[7, 5, 3],\n",
      "        [3, 2, 4],\n",
      "        [3, 6, 1]])\n",
      "B: \n",
      " tensor([[1, 2, 2],\n",
      "        [1, 3, 8],\n",
      "        [4, 8, 6]])\n",
      "C: \n",
      " tensor([[3, 1, 3],\n",
      "        [4, 6, 4],\n",
      "        [4, 5, 4]])\n",
      "Tr(ABC) tensor(1494)\n",
      "Tr(BCA) tensor(1494)\n",
      "Tr(CAB) tensor(1494)\n"
     ]
    }
   ],
   "source": [
    "A = torch.randint(1, 10, [3, 3])\n",
    "B = torch.randint(1, 10, [3, 3])\n",
    "C = torch.randint(1, 10, [3, 3])\n",
    "\n",
    "print(\"A: \\n\", A)\n",
    "print(\"B: \\n\", B)\n",
    "print(\"C: \\n\", C)\n",
    "print(\"Tr(ABC)\", A.matmul(B.matmul(C)).trace())\n",
    "print(\"Tr(BCA)\", B.matmul(C.matmul(A)).trace())\n",
    "print(\"Tr(CAB)\", C.matmul(A.matmul(B)).trace())"
   ]
  },
  {
   "cell_type": "code",
   "execution_count": 5,
   "metadata": {},
   "outputs": [
    {
     "name": "stdout",
     "output_type": "stream",
     "text": [
      "A: \n",
      " tensor([[1, 8, 5, 1, 3],\n",
      "        [7, 2, 4, 5, 3],\n",
      "        [9, 2, 1, 9, 4]])\n",
      "B: \n",
      " tensor([[9, 6, 7],\n",
      "        [2, 5, 4],\n",
      "        [9, 8, 2],\n",
      "        [8, 1, 2],\n",
      "        [6, 8, 5]])\n",
      "AB: \n",
      " tensor([[ 96, 111,  66],\n",
      "        [161, 113,  90],\n",
      "        [190, 113, 111]])\n",
      "BA: \n",
      " tensor([[114,  98,  76, 102,  73],\n",
      "        [ 73,  34,  34,  63,  37],\n",
      "        [ 83,  92,  79,  67,  59],\n",
      "        [ 33,  70,  46,  31,  35],\n",
      "        [107,  74,  67,  91,  62]])\n",
      "Tr(AB): \n",
      " tensor(320)\n",
      "Tr(BA): \n",
      " tensor(320)\n"
     ]
    }
   ],
   "source": [
    "A = torch.randint(1, 10, [3, 5])\n",
    "B = torch.randint(1, 10, [5, 3])\n",
    "AB = A.matmul(B)\n",
    "BA = B.matmul(A)\n",
    "print(\"A: \\n\", A)\n",
    "print(\"B: \\n\", B)\n",
    "print(\"AB: \\n\", AB)\n",
    "print(\"BA: \\n\", BA)\n",
    "print(\"Tr(AB): \\n\", AB.trace())\n",
    "print(\"Tr(BA): \\n\", BA.trace())"
   ]
  },
  {
   "cell_type": "code",
   "execution_count": null,
   "metadata": {},
   "outputs": [],
   "source": []
  }
 ],
 "metadata": {
  "kernelspec": {
   "display_name": "Python 3",
   "language": "python",
   "name": "python3"
  },
  "language_info": {
   "codemirror_mode": {
    "name": "ipython",
    "version": 3
   },
   "file_extension": ".py",
   "mimetype": "text/x-python",
   "name": "python",
   "nbconvert_exporter": "python",
   "pygments_lexer": "ipython3",
   "version": "3.5.2"
  }
 },
 "nbformat": 4,
 "nbformat_minor": 2
}
