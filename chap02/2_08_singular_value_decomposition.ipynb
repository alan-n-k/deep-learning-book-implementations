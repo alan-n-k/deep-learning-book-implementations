{
 "cells": [
  {
   "cell_type": "markdown",
   "metadata": {},
   "source": [
    "# 2 Linear Algebra"
   ]
  },
  {
   "cell_type": "markdown",
   "metadata": {},
   "source": [
    "## 2.8 Singular Value Decomposition"
   ]
  },
  {
   "cell_type": "code",
   "execution_count": 1,
   "metadata": {},
   "outputs": [],
   "source": [
    "import torch"
   ]
  },
  {
   "cell_type": "code",
   "execution_count": 2,
   "metadata": {},
   "outputs": [
    {
     "name": "stdout",
     "output_type": "stream",
     "text": [
      "A: \n",
      " tensor([[7., 5., 7.],\n",
      "        [9., 1., 3.]])\n"
     ]
    }
   ],
   "source": [
    "A = torch.FloatTensor([[7,5,7], [9,1,3]])\n",
    "print(\"A: \\n\", A)"
   ]
  },
  {
   "cell_type": "code",
   "execution_count": 3,
   "metadata": {},
   "outputs": [
    {
     "name": "stdout",
     "output_type": "stream",
     "text": [
      "U: \n",
      " tensor([[ 0.7671, -0.6415],\n",
      "        [ 0.6415,  0.7671]])\n",
      "D: \n",
      " tensor([[14.0509,  0.0000,  0.0000],\n",
      "        [ 0.0000,  4.0710,  0.0000]])\n",
      "V: \n",
      " tensor([[ 0.7931,  0.5929, -0.1399],\n",
      "        [ 0.3186, -0.5995, -0.7342],\n",
      "        [ 0.5191, -0.5377,  0.6643]])\n"
     ]
    }
   ],
   "source": [
    "U_eigval, U = A.matmul(A.t()).eig(eigenvectors=True)\n",
    "V_eigval, V = A.t().matmul(A).eig(eigenvectors=True)\n",
    "D_tmp = (U_eigval ** (1/2))[:,0].diag()\n",
    "\n",
    "D = torch.zeros(U.size()[0], V.size()[0])\n",
    "D[:,:-1] = D_tmp\n",
    "\n",
    "print(\"U: \\n\", U)\n",
    "print(\"D: \\n\", D)\n",
    "print(\"V: \\n\", V)"
   ]
  },
  {
   "cell_type": "code",
   "execution_count": 4,
   "metadata": {},
   "outputs": [
    {
     "name": "stdout",
     "output_type": "stream",
     "text": [
      "U: \n",
      " tensor([[-0.7671, -0.6415],\n",
      "        [-0.6415,  0.7671]])\n",
      "D: \n",
      " tensor([[14.0509,  0.0000,  0.0000],\n",
      "        [ 0.0000,  4.0710,  0.0000]])\n",
      "V: \n",
      " tensor([[-0.7931,  0.5929, -0.1399],\n",
      "        [-0.3186, -0.5995, -0.7342],\n",
      "        [-0.5191, -0.5377,  0.6643]])\n",
      "Singular decomposition of A: \n",
      " tensor([[7.0000, 5.0000, 7.0000],\n",
      "        [9.0000, 1.0000, 3.0000]])\n"
     ]
    }
   ],
   "source": [
    "U, D_tmp, V = A.svd(some=False)\n",
    "\n",
    "D = torch.zeros([U.size()[0], V.size()[0]])\n",
    "D[:,:-1] = D_tmp.diag()\n",
    "\n",
    "print(\"U: \\n\", U)\n",
    "print(\"D: \\n\", D)\n",
    "print(\"V: \\n\", V)\n",
    "print(\"Singular decomposition of A: \\n\", U.matmul(D).matmul(V.t()))"
   ]
  },
  {
   "cell_type": "markdown",
   "metadata": {},
   "source": [
    "By default, svd function in PyTorch internally takes min(m, n) orthonormal vectors (where m, n are the numbers of rows and columns of A), which sometimes makes V not a square matrix of shape (n, n) and D a square matrix:"
   ]
  },
  {
   "cell_type": "code",
   "execution_count": 5,
   "metadata": {},
   "outputs": [
    {
     "name": "stdout",
     "output_type": "stream",
     "text": [
      "U: \n",
      " tensor([[-0.7671, -0.6415],\n",
      "        [-0.6415,  0.7671]])\n",
      "D: \n",
      " tensor([[14.0509,  0.0000],\n",
      "        [ 0.0000,  4.0710]])\n",
      "V: \n",
      " tensor([[-0.7931,  0.5929],\n",
      "        [-0.3186, -0.5995],\n",
      "        [-0.5191, -0.5377]])\n",
      "Singular decomposition of A: \n",
      " tensor([[7.0000, 5.0000, 7.0000],\n",
      "        [9.0000, 1.0000, 3.0000]])\n"
     ]
    }
   ],
   "source": [
    "U, D, V = A.svd()\n",
    "D = D.diag()\n",
    "\n",
    "print(\"U: \\n\", U)\n",
    "print(\"D: \\n\", D)\n",
    "print(\"V: \\n\", V)\n",
    "print(\"Singular decomposition of A: \\n\", U.matmul(D).matmul(V.t()))"
   ]
  },
  {
   "cell_type": "code",
   "execution_count": null,
   "metadata": {},
   "outputs": [],
   "source": []
  }
 ],
 "metadata": {
  "kernelspec": {
   "display_name": "Python 3",
   "language": "python",
   "name": "python3"
  },
  "language_info": {
   "codemirror_mode": {
    "name": "ipython",
    "version": 3
   },
   "file_extension": ".py",
   "mimetype": "text/x-python",
   "name": "python",
   "nbconvert_exporter": "python",
   "pygments_lexer": "ipython3",
   "version": "3.5.2"
  }
 },
 "nbformat": 4,
 "nbformat_minor": 2
}
